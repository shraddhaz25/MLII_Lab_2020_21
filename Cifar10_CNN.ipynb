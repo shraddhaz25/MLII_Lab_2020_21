{
  "nbformat": 4,
  "nbformat_minor": 0,
  "metadata": {
    "colab": {
      "name": "Cifar10 CNN.ipynb",
      "provenance": []
    },
    "kernelspec": {
      "name": "python3",
      "display_name": "Python 3"
    },
    "accelerator": "GPU"
  },
  "cells": [
    {
      "cell_type": "code",
      "metadata": {
        "id": "ml3HTkmGX3fu",
        "colab_type": "code",
        "colab": {}
      },
      "source": [
        "from __future__ import print_function\n",
        "import keras\n",
        "from keras.datasets import cifar10\n",
        "from keras.preprocessing.image import ImageDataGenerator\n",
        "from keras.models import Sequential\n",
        "from keras.layers import Dense, Dropout, Activation, Flatten\n",
        "from keras.layers import Conv2D, MaxPooling2D\n",
        "import os\n"
      ],
      "execution_count": 3,
      "outputs": []
    },
    {
      "cell_type": "code",
      "metadata": {
        "id": "5dQamES3YBTf",
        "colab_type": "code",
        "colab": {}
      },
      "source": [
        "batch_size = 32\n",
        "num_classes = 10\n",
        "epochs = 100\n",
        "data_augmentation = True\n",
        "num_predictions = 20\n",
        "save_dir = os.path.join(os.getcwd(), 'saved_models')\n",
        "model_name = 'keras_cifar10_trained_model.h5'"
      ],
      "execution_count": 4,
      "outputs": []
    },
    {
      "cell_type": "code",
      "metadata": {
        "id": "yD0lirQkYMBL",
        "colab_type": "code",
        "colab": {
          "base_uri": "https://localhost:8080/",
          "height": 101
        },
        "outputId": "ba89b91c-b84c-4ac2-9f90-b671fd3ae841"
      },
      "source": [
        "(x_train, y_train), (x_test, y_test) = cifar10.load_data()\n",
        "print('x_train shape:', x_train.shape)\n",
        "print(x_train.shape[0], 'train samples')\n",
        "print(x_test.shape[0], 'test samples')"
      ],
      "execution_count": 5,
      "outputs": [
        {
          "output_type": "stream",
          "text": [
            "Downloading data from https://www.cs.toronto.edu/~kriz/cifar-10-python.tar.gz\n",
            "170500096/170498071 [==============================] - 6s 0us/step\n",
            "x_train shape: (50000, 32, 32, 3)\n",
            "50000 train samples\n",
            "10000 test samples\n"
          ],
          "name": "stdout"
        }
      ]
    },
    {
      "cell_type": "code",
      "metadata": {
        "id": "JR6ioAcyYPOE",
        "colab_type": "code",
        "colab": {}
      },
      "source": [
        "y_train = keras.utils.to_categorical(y_train, num_classes)\n",
        "y_test = keras.utils.to_categorical(y_test, num_classes)\n"
      ],
      "execution_count": 6,
      "outputs": []
    },
    {
      "cell_type": "code",
      "metadata": {
        "id": "LmfBRJp4YWi0",
        "colab_type": "code",
        "colab": {}
      },
      "source": [
        "model = Sequential()\n",
        "model.add(Conv2D(32, (3, 3), padding='same',\n",
        "                 input_shape=x_train.shape[1:]))\n",
        "model.add(Activation('relu'))\n",
        "model.add(Conv2D(32, (3, 3)))\n",
        "model.add(Activation('relu'))\n",
        "model.add(MaxPooling2D(pool_size=(2, 2)))\n",
        "model.add(Dropout(0.25))"
      ],
      "execution_count": 7,
      "outputs": []
    },
    {
      "cell_type": "code",
      "metadata": {
        "id": "A2zETN9bYZuu",
        "colab_type": "code",
        "colab": {}
      },
      "source": [
        "model.add(Conv2D(64, (3, 3), padding='same'))\n",
        "model.add(Activation('relu'))\n",
        "model.add(Conv2D(64, (3, 3)))\n",
        "model.add(Activation('relu'))\n",
        "model.add(MaxPooling2D(pool_size=(2, 2)))\n",
        "model.add(Dropout(0.25))\n"
      ],
      "execution_count": 8,
      "outputs": []
    },
    {
      "cell_type": "code",
      "metadata": {
        "id": "kcmqEUkSYebE",
        "colab_type": "code",
        "colab": {}
      },
      "source": [
        "model.add(Flatten())\n",
        "model.add(Dense(512))\n",
        "model.add(Activation('relu'))\n",
        "model.add(Dropout(0.5))\n",
        "model.add(Dense(num_classes))\n",
        "model.add(Activation('softmax'))"
      ],
      "execution_count": 9,
      "outputs": []
    },
    {
      "cell_type": "code",
      "metadata": {
        "id": "u4FJRHv4YhQX",
        "colab_type": "code",
        "colab": {}
      },
      "source": [
        "opt = keras.optimizers.RMSprop(learning_rate=0.0001, decay=1e-6)"
      ],
      "execution_count": 10,
      "outputs": []
    },
    {
      "cell_type": "code",
      "metadata": {
        "id": "4d1LgnzVYue-",
        "colab_type": "code",
        "colab": {}
      },
      "source": [
        "model.compile(loss='categorical_crossentropy',\n",
        "              optimizer=opt,\n",
        "              metrics=['accuracy'])"
      ],
      "execution_count": 11,
      "outputs": []
    },
    {
      "cell_type": "code",
      "metadata": {
        "id": "vhmKd8f2YxDN",
        "colab_type": "code",
        "colab": {}
      },
      "source": [
        "x_train = x_train.astype('float32')\n",
        "x_test = x_test.astype('float32')\n",
        "x_train /= 255\n",
        "x_test /= 255"
      ],
      "execution_count": 12,
      "outputs": []
    },
    {
      "cell_type": "code",
      "metadata": {
        "id": "dPu2ymXBYz7k",
        "colab_type": "code",
        "colab": {
          "base_uri": "https://localhost:8080/",
          "height": 34
        },
        "outputId": "e5e51c64-450c-4ba1-c380-bd193e078501"
      },
      "source": [
        "if not data_augmentation:\n",
        "    print('Not using data augmentation.')\n",
        "    model.fit(x_train, y_train,\n",
        "              batch_size=batch_size,\n",
        "              epochs=epochs,\n",
        "              validation_data=(x_test, y_test),\n",
        "              shuffle=True)\n",
        "else:\n",
        "    print('Using real-time data augmentation.')\n",
        "    datagen = ImageDataGenerator(\n",
        "        featurewise_center=False,  \n",
        "        samplewise_center=False,  \n",
        "        featurewise_std_normalization=False,  \n",
        "        samplewise_std_normalization=False,  \n",
        "        zca_whitening=False, \n",
        "        zca_epsilon=1e-06,  \n",
        "        rotation_range=0,  \n",
        "        width_shift_range=0.1,\n",
        "        height_shift_range=0.1,\n",
        "        shear_range=0.,  \n",
        "        zoom_range=0.,  \n",
        "        channel_shift_range=0.,  \n",
        "        fill_mode='nearest',\n",
        "        cval=0.,  \n",
        "        horizontal_flip=True,  \n",
        "        vertical_flip=False,  \n",
        "        rescale=None,\n",
        "        preprocessing_function=None,\n",
        "        data_format=None,\n",
        "        validation_split=0.0)"
      ],
      "execution_count": 13,
      "outputs": [
        {
          "output_type": "stream",
          "text": [
            "Using real-time data augmentation.\n"
          ],
          "name": "stdout"
        }
      ]
    },
    {
      "cell_type": "code",
      "metadata": {
        "id": "op7Oog2WZjOU",
        "colab_type": "code",
        "colab": {}
      },
      "source": [
        "datagen.fit(x_train)"
      ],
      "execution_count": 14,
      "outputs": []
    },
    {
      "cell_type": "code",
      "metadata": {
        "id": "uNJcedQoZmrF",
        "colab_type": "code",
        "colab": {
          "base_uri": "https://localhost:8080/",
          "height": 1000
        },
        "outputId": "13273344-3041-4025-a447-4dda4d098651"
      },
      "source": [
        "model.fit_generator(datagen.flow(x_train, y_train,\n",
        "                                     batch_size=batch_size),\n",
        "                        epochs=epochs,\n",
        "                        validation_data=(x_test, y_test),\n",
        "                        workers=4)\n"
      ],
      "execution_count": 15,
      "outputs": [
        {
          "output_type": "stream",
          "text": [
            "WARNING:tensorflow:From <ipython-input-15-87a60c576304>:5: Model.fit_generator (from tensorflow.python.keras.engine.training) is deprecated and will be removed in a future version.\n",
            "Instructions for updating:\n",
            "Please use Model.fit, which supports generators.\n",
            "Epoch 1/100\n",
            "1563/1563 [==============================] - 48s 31ms/step - loss: 1.8703 - accuracy: 0.3138 - val_loss: 1.5737 - val_accuracy: 0.4274\n",
            "Epoch 2/100\n",
            "1563/1563 [==============================] - 48s 31ms/step - loss: 1.5833 - accuracy: 0.4205 - val_loss: 1.4035 - val_accuracy: 0.4891\n",
            "Epoch 3/100\n",
            "1563/1563 [==============================] - 47s 30ms/step - loss: 1.4655 - accuracy: 0.4674 - val_loss: 1.2857 - val_accuracy: 0.5421\n",
            "Epoch 4/100\n",
            "1563/1563 [==============================] - 47s 30ms/step - loss: 1.3788 - accuracy: 0.5046 - val_loss: 1.2832 - val_accuracy: 0.5350\n",
            "Epoch 5/100\n",
            "1563/1563 [==============================] - 47s 30ms/step - loss: 1.3152 - accuracy: 0.5294 - val_loss: 1.1649 - val_accuracy: 0.5896\n",
            "Epoch 6/100\n",
            "1563/1563 [==============================] - 48s 31ms/step - loss: 1.2568 - accuracy: 0.5510 - val_loss: 1.0816 - val_accuracy: 0.6152\n",
            "Epoch 7/100\n",
            "1563/1563 [==============================] - 47s 30ms/step - loss: 1.2042 - accuracy: 0.5728 - val_loss: 1.0922 - val_accuracy: 0.6136\n",
            "Epoch 8/100\n",
            "1563/1563 [==============================] - 48s 31ms/step - loss: 1.1680 - accuracy: 0.5869 - val_loss: 1.0369 - val_accuracy: 0.6310\n",
            "Epoch 9/100\n",
            "1563/1563 [==============================] - 48s 31ms/step - loss: 1.1296 - accuracy: 0.6024 - val_loss: 0.9539 - val_accuracy: 0.6632\n",
            "Epoch 10/100\n",
            "1563/1563 [==============================] - 47s 30ms/step - loss: 1.1000 - accuracy: 0.6123 - val_loss: 0.9438 - val_accuracy: 0.6695\n",
            "Epoch 11/100\n",
            "1563/1563 [==============================] - 47s 30ms/step - loss: 1.0695 - accuracy: 0.6213 - val_loss: 0.9507 - val_accuracy: 0.6712\n",
            "Epoch 12/100\n",
            "1563/1563 [==============================] - 48s 30ms/step - loss: 1.0472 - accuracy: 0.6346 - val_loss: 0.9402 - val_accuracy: 0.6758\n",
            "Epoch 13/100\n",
            "1563/1563 [==============================] - 48s 31ms/step - loss: 1.0225 - accuracy: 0.6400 - val_loss: 0.9228 - val_accuracy: 0.6780\n",
            "Epoch 14/100\n",
            "1563/1563 [==============================] - 47s 30ms/step - loss: 0.9975 - accuracy: 0.6479 - val_loss: 0.8823 - val_accuracy: 0.6924\n",
            "Epoch 15/100\n",
            "1563/1563 [==============================] - 47s 30ms/step - loss: 0.9813 - accuracy: 0.6555 - val_loss: 0.8761 - val_accuracy: 0.6942\n",
            "Epoch 16/100\n",
            "1563/1563 [==============================] - 48s 31ms/step - loss: 0.9612 - accuracy: 0.6642 - val_loss: 0.8410 - val_accuracy: 0.7036\n",
            "Epoch 17/100\n",
            "1563/1563 [==============================] - 48s 31ms/step - loss: 0.9438 - accuracy: 0.6699 - val_loss: 0.8474 - val_accuracy: 0.7052\n",
            "Epoch 18/100\n",
            "1563/1563 [==============================] - 48s 31ms/step - loss: 0.9299 - accuracy: 0.6761 - val_loss: 0.8099 - val_accuracy: 0.7158\n",
            "Epoch 19/100\n",
            "1563/1563 [==============================] - 49s 31ms/step - loss: 0.9190 - accuracy: 0.6793 - val_loss: 0.8073 - val_accuracy: 0.7191\n",
            "Epoch 20/100\n",
            "1563/1563 [==============================] - 48s 30ms/step - loss: 0.9103 - accuracy: 0.6837 - val_loss: 0.8071 - val_accuracy: 0.7220\n",
            "Epoch 21/100\n",
            "1563/1563 [==============================] - 47s 30ms/step - loss: 0.8998 - accuracy: 0.6873 - val_loss: 0.8111 - val_accuracy: 0.7185\n",
            "Epoch 22/100\n",
            "1563/1563 [==============================] - 47s 30ms/step - loss: 0.8932 - accuracy: 0.6897 - val_loss: 0.7725 - val_accuracy: 0.7338\n",
            "Epoch 23/100\n",
            "1563/1563 [==============================] - 47s 30ms/step - loss: 0.8774 - accuracy: 0.6945 - val_loss: 0.8101 - val_accuracy: 0.7235\n",
            "Epoch 24/100\n",
            "1563/1563 [==============================] - 47s 30ms/step - loss: 0.8745 - accuracy: 0.6965 - val_loss: 0.7737 - val_accuracy: 0.7318\n",
            "Epoch 25/100\n",
            "1563/1563 [==============================] - 48s 31ms/step - loss: 0.8655 - accuracy: 0.6992 - val_loss: 0.7866 - val_accuracy: 0.7347\n",
            "Epoch 26/100\n",
            "1563/1563 [==============================] - 48s 30ms/step - loss: 0.8610 - accuracy: 0.7026 - val_loss: 0.7717 - val_accuracy: 0.7321\n",
            "Epoch 27/100\n",
            "1563/1563 [==============================] - 47s 30ms/step - loss: 0.8512 - accuracy: 0.7035 - val_loss: 0.7772 - val_accuracy: 0.7355\n",
            "Epoch 28/100\n",
            "1563/1563 [==============================] - 46s 30ms/step - loss: 0.8523 - accuracy: 0.7066 - val_loss: 0.7626 - val_accuracy: 0.7433\n",
            "Epoch 29/100\n",
            "1563/1563 [==============================] - 47s 30ms/step - loss: 0.8428 - accuracy: 0.7087 - val_loss: 0.7288 - val_accuracy: 0.7453\n",
            "Epoch 30/100\n",
            "1563/1563 [==============================] - 46s 30ms/step - loss: 0.8373 - accuracy: 0.7114 - val_loss: 0.7637 - val_accuracy: 0.7357\n",
            "Epoch 31/100\n",
            "1563/1563 [==============================] - 46s 30ms/step - loss: 0.8386 - accuracy: 0.7114 - val_loss: 0.7123 - val_accuracy: 0.7563\n",
            "Epoch 32/100\n",
            "1563/1563 [==============================] - 48s 31ms/step - loss: 0.8383 - accuracy: 0.7120 - val_loss: 0.7475 - val_accuracy: 0.7441\n",
            "Epoch 33/100\n",
            "1563/1563 [==============================] - 47s 30ms/step - loss: 0.8316 - accuracy: 0.7141 - val_loss: 0.7685 - val_accuracy: 0.7424\n",
            "Epoch 34/100\n",
            "1563/1563 [==============================] - 48s 31ms/step - loss: 0.8337 - accuracy: 0.7173 - val_loss: 0.7677 - val_accuracy: 0.7341\n",
            "Epoch 35/100\n",
            "1563/1563 [==============================] - 48s 31ms/step - loss: 0.8243 - accuracy: 0.7177 - val_loss: 0.7259 - val_accuracy: 0.7510\n",
            "Epoch 36/100\n",
            "1563/1563 [==============================] - 47s 30ms/step - loss: 0.8272 - accuracy: 0.7186 - val_loss: 0.7081 - val_accuracy: 0.7600\n",
            "Epoch 37/100\n",
            "1563/1563 [==============================] - 47s 30ms/step - loss: 0.8233 - accuracy: 0.7188 - val_loss: 0.6943 - val_accuracy: 0.7626\n",
            "Epoch 38/100\n",
            "1563/1563 [==============================] - 47s 30ms/step - loss: 0.8264 - accuracy: 0.7197 - val_loss: 0.7184 - val_accuracy: 0.7596\n",
            "Epoch 39/100\n",
            "1563/1563 [==============================] - 48s 31ms/step - loss: 0.8188 - accuracy: 0.7198 - val_loss: 0.7500 - val_accuracy: 0.7458\n",
            "Epoch 40/100\n",
            "1563/1563 [==============================] - 48s 31ms/step - loss: 0.8157 - accuracy: 0.7238 - val_loss: 0.7288 - val_accuracy: 0.7502\n",
            "Epoch 41/100\n",
            "1563/1563 [==============================] - 48s 31ms/step - loss: 0.8139 - accuracy: 0.7222 - val_loss: 0.7037 - val_accuracy: 0.7606\n",
            "Epoch 42/100\n",
            "1563/1563 [==============================] - 47s 30ms/step - loss: 0.8084 - accuracy: 0.7241 - val_loss: 0.7208 - val_accuracy: 0.7603\n",
            "Epoch 43/100\n",
            "1563/1563 [==============================] - 47s 30ms/step - loss: 0.8086 - accuracy: 0.7281 - val_loss: 0.7010 - val_accuracy: 0.7650\n",
            "Epoch 44/100\n",
            "1563/1563 [==============================] - 47s 30ms/step - loss: 0.8096 - accuracy: 0.7259 - val_loss: 0.7430 - val_accuracy: 0.7501\n",
            "Epoch 45/100\n",
            "1563/1563 [==============================] - 48s 31ms/step - loss: 0.8036 - accuracy: 0.7269 - val_loss: 0.7224 - val_accuracy: 0.7525\n",
            "Epoch 46/100\n",
            "1563/1563 [==============================] - 47s 30ms/step - loss: 0.8037 - accuracy: 0.7303 - val_loss: 0.7431 - val_accuracy: 0.7498\n",
            "Epoch 47/100\n",
            "1563/1563 [==============================] - 46s 30ms/step - loss: 0.7940 - accuracy: 0.7303 - val_loss: 0.7081 - val_accuracy: 0.7691\n",
            "Epoch 48/100\n",
            "1563/1563 [==============================] - 46s 30ms/step - loss: 0.7968 - accuracy: 0.7309 - val_loss: 0.7584 - val_accuracy: 0.7439\n",
            "Epoch 49/100\n",
            "1563/1563 [==============================] - 47s 30ms/step - loss: 0.8052 - accuracy: 0.7274 - val_loss: 0.7246 - val_accuracy: 0.7600\n",
            "Epoch 50/100\n",
            "1563/1563 [==============================] - 47s 30ms/step - loss: 0.7932 - accuracy: 0.7325 - val_loss: 0.7099 - val_accuracy: 0.7589\n",
            "Epoch 51/100\n",
            "1563/1563 [==============================] - 48s 31ms/step - loss: 0.7877 - accuracy: 0.7334 - val_loss: 0.6927 - val_accuracy: 0.7706\n",
            "Epoch 52/100\n",
            "1563/1563 [==============================] - 48s 31ms/step - loss: 0.7932 - accuracy: 0.7331 - val_loss: 0.6572 - val_accuracy: 0.7750\n",
            "Epoch 53/100\n",
            "1563/1563 [==============================] - 46s 30ms/step - loss: 0.7949 - accuracy: 0.7311 - val_loss: 0.8282 - val_accuracy: 0.7260\n",
            "Epoch 54/100\n",
            "1563/1563 [==============================] - 47s 30ms/step - loss: 0.7956 - accuracy: 0.7327 - val_loss: 0.7117 - val_accuracy: 0.7661\n",
            "Epoch 55/100\n",
            "1563/1563 [==============================] - 47s 30ms/step - loss: 0.7926 - accuracy: 0.7323 - val_loss: 0.7533 - val_accuracy: 0.7536\n",
            "Epoch 56/100\n",
            "1563/1563 [==============================] - 47s 30ms/step - loss: 0.7975 - accuracy: 0.7302 - val_loss: 0.7125 - val_accuracy: 0.7616\n",
            "Epoch 57/100\n",
            "1563/1563 [==============================] - 48s 30ms/step - loss: 0.7891 - accuracy: 0.7363 - val_loss: 0.7376 - val_accuracy: 0.7541\n",
            "Epoch 58/100\n",
            "1563/1563 [==============================] - 48s 31ms/step - loss: 0.7877 - accuracy: 0.7335 - val_loss: 0.7293 - val_accuracy: 0.7559\n",
            "Epoch 59/100\n",
            "1563/1563 [==============================] - 47s 30ms/step - loss: 0.7920 - accuracy: 0.7343 - val_loss: 0.7049 - val_accuracy: 0.7699\n",
            "Epoch 60/100\n",
            "1563/1563 [==============================] - 47s 30ms/step - loss: 0.7858 - accuracy: 0.7338 - val_loss: 0.7602 - val_accuracy: 0.7481\n",
            "Epoch 61/100\n",
            "1563/1563 [==============================] - 47s 30ms/step - loss: 0.7855 - accuracy: 0.7360 - val_loss: 0.7827 - val_accuracy: 0.7381\n",
            "Epoch 62/100\n",
            "1563/1563 [==============================] - 46s 29ms/step - loss: 0.7917 - accuracy: 0.7335 - val_loss: 0.7034 - val_accuracy: 0.7635\n",
            "Epoch 63/100\n",
            "1563/1563 [==============================] - 47s 30ms/step - loss: 0.7852 - accuracy: 0.7370 - val_loss: 0.6997 - val_accuracy: 0.7664\n",
            "Epoch 64/100\n",
            "1563/1563 [==============================] - 48s 31ms/step - loss: 0.7855 - accuracy: 0.7357 - val_loss: 0.7300 - val_accuracy: 0.7525\n",
            "Epoch 65/100\n",
            "1563/1563 [==============================] - 47s 30ms/step - loss: 0.7845 - accuracy: 0.7369 - val_loss: 0.6935 - val_accuracy: 0.7698\n",
            "Epoch 66/100\n",
            "1563/1563 [==============================] - 46s 29ms/step - loss: 0.7867 - accuracy: 0.7349 - val_loss: 0.7684 - val_accuracy: 0.7450\n",
            "Epoch 67/100\n",
            "1563/1563 [==============================] - 46s 29ms/step - loss: 0.7865 - accuracy: 0.7372 - val_loss: 0.6910 - val_accuracy: 0.7718\n",
            "Epoch 68/100\n",
            "1563/1563 [==============================] - 46s 30ms/step - loss: 0.7848 - accuracy: 0.7354 - val_loss: 0.7015 - val_accuracy: 0.7693\n",
            "Epoch 69/100\n",
            "1563/1563 [==============================] - 48s 30ms/step - loss: 0.7863 - accuracy: 0.7380 - val_loss: 0.7649 - val_accuracy: 0.7403\n",
            "Epoch 70/100\n",
            "1563/1563 [==============================] - 48s 31ms/step - loss: 0.7861 - accuracy: 0.7368 - val_loss: 0.7515 - val_accuracy: 0.7547\n",
            "Epoch 71/100\n",
            "1563/1563 [==============================] - 48s 31ms/step - loss: 0.7802 - accuracy: 0.7371 - val_loss: 0.7392 - val_accuracy: 0.7614\n",
            "Epoch 72/100\n",
            "1563/1563 [==============================] - 48s 31ms/step - loss: 0.7866 - accuracy: 0.7366 - val_loss: 0.7420 - val_accuracy: 0.7629\n",
            "Epoch 73/100\n",
            "1563/1563 [==============================] - 48s 31ms/step - loss: 0.7829 - accuracy: 0.7352 - val_loss: 0.7588 - val_accuracy: 0.7595\n",
            "Epoch 74/100\n",
            "1563/1563 [==============================] - 48s 31ms/step - loss: 0.7835 - accuracy: 0.7372 - val_loss: 0.7024 - val_accuracy: 0.7719\n",
            "Epoch 75/100\n",
            "1563/1563 [==============================] - 49s 31ms/step - loss: 0.7814 - accuracy: 0.7386 - val_loss: 0.7492 - val_accuracy: 0.7566\n",
            "Epoch 76/100\n",
            "1563/1563 [==============================] - 49s 31ms/step - loss: 0.7836 - accuracy: 0.7359 - val_loss: 0.8118 - val_accuracy: 0.7292\n",
            "Epoch 77/100\n",
            "1563/1563 [==============================] - 49s 31ms/step - loss: 0.7941 - accuracy: 0.7347 - val_loss: 0.7079 - val_accuracy: 0.7668\n",
            "Epoch 78/100\n",
            "1563/1563 [==============================] - 50s 32ms/step - loss: 0.7858 - accuracy: 0.7401 - val_loss: 0.7243 - val_accuracy: 0.7582\n",
            "Epoch 79/100\n",
            "1563/1563 [==============================] - 49s 31ms/step - loss: 0.7845 - accuracy: 0.7374 - val_loss: 0.7308 - val_accuracy: 0.7569\n",
            "Epoch 80/100\n",
            "1563/1563 [==============================] - 49s 31ms/step - loss: 0.7878 - accuracy: 0.7355 - val_loss: 0.7020 - val_accuracy: 0.7672\n",
            "Epoch 81/100\n",
            "1563/1563 [==============================] - 49s 31ms/step - loss: 0.7884 - accuracy: 0.7368 - val_loss: 0.7099 - val_accuracy: 0.7684\n",
            "Epoch 82/100\n",
            "1563/1563 [==============================] - 49s 31ms/step - loss: 0.7888 - accuracy: 0.7371 - val_loss: 0.7765 - val_accuracy: 0.7430\n",
            "Epoch 83/100\n",
            "1563/1563 [==============================] - 49s 31ms/step - loss: 0.7922 - accuracy: 0.7359 - val_loss: 0.7310 - val_accuracy: 0.7571\n",
            "Epoch 84/100\n",
            "1563/1563 [==============================] - 50s 32ms/step - loss: 0.7938 - accuracy: 0.7343 - val_loss: 0.7466 - val_accuracy: 0.7547\n",
            "Epoch 85/100\n",
            "1563/1563 [==============================] - 49s 31ms/step - loss: 0.7894 - accuracy: 0.7365 - val_loss: 0.7666 - val_accuracy: 0.7614\n",
            "Epoch 86/100\n",
            "1563/1563 [==============================] - 49s 31ms/step - loss: 0.7885 - accuracy: 0.7378 - val_loss: 0.7896 - val_accuracy: 0.7497\n",
            "Epoch 87/100\n",
            "1563/1563 [==============================] - 48s 31ms/step - loss: 0.7972 - accuracy: 0.7333 - val_loss: 0.7294 - val_accuracy: 0.7650\n",
            "Epoch 88/100\n",
            "1563/1563 [==============================] - 49s 31ms/step - loss: 0.7927 - accuracy: 0.7364 - val_loss: 0.7467 - val_accuracy: 0.7518\n",
            "Epoch 89/100\n",
            "1563/1563 [==============================] - 49s 31ms/step - loss: 0.7891 - accuracy: 0.7372 - val_loss: 0.7541 - val_accuracy: 0.7557\n",
            "Epoch 90/100\n",
            "1563/1563 [==============================] - 49s 31ms/step - loss: 0.7886 - accuracy: 0.7369 - val_loss: 0.7290 - val_accuracy: 0.7604\n",
            "Epoch 91/100\n",
            "1563/1563 [==============================] - 49s 32ms/step - loss: 0.7955 - accuracy: 0.7371 - val_loss: 0.6862 - val_accuracy: 0.7710\n",
            "Epoch 92/100\n",
            "1563/1563 [==============================] - 49s 31ms/step - loss: 0.7954 - accuracy: 0.7353 - val_loss: 0.6707 - val_accuracy: 0.7819\n",
            "Epoch 93/100\n",
            "1563/1563 [==============================] - 49s 31ms/step - loss: 0.7941 - accuracy: 0.7356 - val_loss: 0.7444 - val_accuracy: 0.7563\n",
            "Epoch 94/100\n",
            "1563/1563 [==============================] - 49s 31ms/step - loss: 0.7943 - accuracy: 0.7333 - val_loss: 0.6977 - val_accuracy: 0.7683\n",
            "Epoch 95/100\n",
            "1563/1563 [==============================] - 49s 31ms/step - loss: 0.7940 - accuracy: 0.7361 - val_loss: 0.7185 - val_accuracy: 0.7590\n",
            "Epoch 96/100\n",
            "1563/1563 [==============================] - 49s 31ms/step - loss: 0.7990 - accuracy: 0.7345 - val_loss: 0.6879 - val_accuracy: 0.7760\n",
            "Epoch 97/100\n",
            "1563/1563 [==============================] - 49s 32ms/step - loss: 0.8013 - accuracy: 0.7341 - val_loss: 0.7515 - val_accuracy: 0.7539\n",
            "Epoch 98/100\n",
            "1563/1563 [==============================] - 49s 31ms/step - loss: 0.8035 - accuracy: 0.7351 - val_loss: 0.6799 - val_accuracy: 0.7805\n",
            "Epoch 99/100\n",
            "1563/1563 [==============================] - 49s 31ms/step - loss: 0.8049 - accuracy: 0.7322 - val_loss: 0.7335 - val_accuracy: 0.7564\n",
            "Epoch 100/100\n",
            "1563/1563 [==============================] - 49s 31ms/step - loss: 0.8089 - accuracy: 0.7327 - val_loss: 0.6891 - val_accuracy: 0.7708\n"
          ],
          "name": "stdout"
        },
        {
          "output_type": "execute_result",
          "data": {
            "text/plain": [
              "<tensorflow.python.keras.callbacks.History at 0x7fcff03cb048>"
            ]
          },
          "metadata": {
            "tags": []
          },
          "execution_count": 15
        }
      ]
    },
    {
      "cell_type": "code",
      "metadata": {
        "id": "lQU4WYinZpUG",
        "colab_type": "code",
        "colab": {
          "base_uri": "https://localhost:8080/",
          "height": 50
        },
        "outputId": "32d49923-1ae4-4b4e-f196-6734d517ea68"
      },
      "source": [
        "model.evaluate(x_train,y_train)"
      ],
      "execution_count": 17,
      "outputs": [
        {
          "output_type": "stream",
          "text": [
            "1563/1563 [==============================] - 8s 5ms/step - loss: 0.6217 - accuracy: 0.7939\n"
          ],
          "name": "stdout"
        },
        {
          "output_type": "execute_result",
          "data": {
            "text/plain": [
              "[0.6217466592788696, 0.7938799858093262]"
            ]
          },
          "metadata": {
            "tags": []
          },
          "execution_count": 17
        }
      ]
    },
    {
      "cell_type": "code",
      "metadata": {
        "id": "fpBdBnQ2A-fL",
        "colab_type": "code",
        "colab": {
          "base_uri": "https://localhost:8080/",
          "height": 34
        },
        "outputId": "2c4460ba-9cda-417b-bb09-e4e1a9d104d9"
      },
      "source": [
        "score = model.evaluate(x_test,y_test)"
      ],
      "execution_count": 18,
      "outputs": [
        {
          "output_type": "stream",
          "text": [
            "313/313 [==============================] - 2s 5ms/step - loss: 0.6891 - accuracy: 0.7708\n"
          ],
          "name": "stdout"
        }
      ]
    },
    {
      "cell_type": "code",
      "metadata": {
        "id": "C6-7PeJWBK2U",
        "colab_type": "code",
        "colab": {
          "base_uri": "https://localhost:8080/",
          "height": 50
        },
        "outputId": "1218b0f4-cca5-4571-da57-533dddf185d2"
      },
      "source": [
        "print('Test Loss:',score[0])\n",
        "print('Test Accuracy:',score[1])"
      ],
      "execution_count": 19,
      "outputs": [
        {
          "output_type": "stream",
          "text": [
            "Test Loss: 0.6891160011291504\n",
            "Test Accuracy: 0.770799994468689\n"
          ],
          "name": "stdout"
        }
      ]
    },
    {
      "cell_type": "code",
      "metadata": {
        "id": "SHkKGg3LBYUv",
        "colab_type": "code",
        "colab": {}
      },
      "source": [
        ""
      ],
      "execution_count": null,
      "outputs": []
    }
  ]
}