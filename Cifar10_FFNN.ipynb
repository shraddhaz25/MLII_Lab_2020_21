{
  "nbformat": 4,
  "nbformat_minor": 0,
  "metadata": {
    "colab": {
      "name": "Cifar10 FFNN.ipynb",
      "provenance": []
    },
    "kernelspec": {
      "name": "python3",
      "display_name": "Python 3"
    },
    "accelerator": "GPU"
  },
  "cells": [
    {
      "cell_type": "code",
      "metadata": {
        "id": "77Qz0ysnyMGk",
        "colab_type": "code",
        "colab": {}
      },
      "source": [
        "from __future__ import print_function\n",
        "import keras\n",
        "from keras.datasets import cifar10\n",
        "from keras.preprocessing.image import ImageDataGenerator\n",
        "from keras.models import Sequential\n",
        "import tensorflow.compat.v2 as tf\n",
        "from sklearn.model_selection import train_test_split\n",
        "from tensorflow.keras.utils import to_categorical as tcg\n",
        "from tensorflow.keras.layers import Dense, Flatten"
      ],
      "execution_count": 2,
      "outputs": []
    },
    {
      "cell_type": "code",
      "metadata": {
        "id": "eMNzngmpzcSj",
        "colab_type": "code",
        "colab": {
          "base_uri": "https://localhost:8080/",
          "height": 50
        },
        "outputId": "991784e2-2619-486a-c8d1-38e7035c7868"
      },
      "source": [
        "(xtr,ytr),(xte,yte) = cifar10.load_data()"
      ],
      "execution_count": 3,
      "outputs": [
        {
          "output_type": "stream",
          "text": [
            "Downloading data from https://www.cs.toronto.edu/~kriz/cifar-10-python.tar.gz\n",
            "170500096/170498071 [==============================] - 4s 0us/step\n"
          ],
          "name": "stdout"
        }
      ]
    },
    {
      "cell_type": "code",
      "metadata": {
        "id": "4W5wVU1S0O8J",
        "colab_type": "code",
        "colab": {
          "base_uri": "https://localhost:8080/",
          "height": 34
        },
        "outputId": "2f5914bc-eb4f-4fa6-9209-7d3c588ce078"
      },
      "source": [
        "xtr.shape"
      ],
      "execution_count": 4,
      "outputs": [
        {
          "output_type": "execute_result",
          "data": {
            "text/plain": [
              "(50000, 32, 32, 3)"
            ]
          },
          "metadata": {
            "tags": []
          },
          "execution_count": 4
        }
      ]
    },
    {
      "cell_type": "code",
      "metadata": {
        "id": "bdQc_WXK0VSE",
        "colab_type": "code",
        "colab": {}
      },
      "source": [
        "ytr=tcg(ytr)\n",
        "yte=tcg(yte)"
      ],
      "execution_count": 5,
      "outputs": []
    },
    {
      "cell_type": "code",
      "metadata": {
        "id": "APTn_VFa0gkU",
        "colab_type": "code",
        "colab": {}
      },
      "source": [
        "xte=xte.reshape(xte.shape[0],xte.shape[1],xte.shape[2],3).astype('float32')/255\n",
        "xtr=xtr.reshape(xtr.shape[0],xtr.shape[1],xtr.shape[2],3).astype('float32')/255"
      ],
      "execution_count": 6,
      "outputs": []
    },
    {
      "cell_type": "code",
      "metadata": {
        "id": "hxvw14gm1BqK",
        "colab_type": "code",
        "colab": {}
      },
      "source": [
        "model = Sequential([\n",
        "                    Flatten(input_shape=(32,32,3)),\n",
        "                    Dense(256, activation='relu'),\n",
        "                    Dense(128, activation='relu', kernel_initializer='he_uniform'),\n",
        "                    Dense(64, activation='relu'),\n",
        "                    Dense(10, activation='softmax'),\n",
        "])"
      ],
      "execution_count": 7,
      "outputs": []
    },
    {
      "cell_type": "code",
      "metadata": {
        "id": "1jtv6P3n1wWh",
        "colab_type": "code",
        "colab": {}
      },
      "source": [
        "from keras.optimizers import Adam\n",
        "model.compile(loss='categorical_crossentropy',optimizer=Adam(lr = 0.0001), metrics=['accuracy'])"
      ],
      "execution_count": 8,
      "outputs": []
    },
    {
      "cell_type": "code",
      "metadata": {
        "id": "OR5C_X9D2PHW",
        "colab_type": "code",
        "colab": {
          "base_uri": "https://localhost:8080/",
          "height": 454
        },
        "outputId": "75a1b41b-36bd-43f5-d058-5c078308507c"
      },
      "source": [
        "history = model.fit(xtr, ytr, validation_data=(xte,yte), epochs=13, batch_size=64 )"
      ],
      "execution_count": 9,
      "outputs": [
        {
          "output_type": "stream",
          "text": [
            "Epoch 1/13\n",
            "782/782 [==============================] - 3s 4ms/step - loss: 1.8993 - accuracy: 0.3202 - val_loss: 1.7670 - val_accuracy: 0.3801\n",
            "Epoch 2/13\n",
            "782/782 [==============================] - 3s 3ms/step - loss: 1.7208 - accuracy: 0.3930 - val_loss: 1.6867 - val_accuracy: 0.3978\n",
            "Epoch 3/13\n",
            "782/782 [==============================] - 3s 3ms/step - loss: 1.6356 - accuracy: 0.4214 - val_loss: 1.6358 - val_accuracy: 0.4183\n",
            "Epoch 4/13\n",
            "782/782 [==============================] - 3s 3ms/step - loss: 1.5800 - accuracy: 0.4417 - val_loss: 1.5887 - val_accuracy: 0.4366\n",
            "Epoch 5/13\n",
            "782/782 [==============================] - 3s 3ms/step - loss: 1.5394 - accuracy: 0.4553 - val_loss: 1.5275 - val_accuracy: 0.4572\n",
            "Epoch 6/13\n",
            "782/782 [==============================] - 3s 3ms/step - loss: 1.5008 - accuracy: 0.4708 - val_loss: 1.5328 - val_accuracy: 0.4548\n",
            "Epoch 7/13\n",
            "782/782 [==============================] - 3s 3ms/step - loss: 1.4708 - accuracy: 0.4806 - val_loss: 1.5062 - val_accuracy: 0.4656\n",
            "Epoch 8/13\n",
            "782/782 [==============================] - 3s 3ms/step - loss: 1.4448 - accuracy: 0.4889 - val_loss: 1.5004 - val_accuracy: 0.4654\n",
            "Epoch 9/13\n",
            "782/782 [==============================] - 3s 3ms/step - loss: 1.4180 - accuracy: 0.4992 - val_loss: 1.4510 - val_accuracy: 0.4834\n",
            "Epoch 10/13\n",
            "782/782 [==============================] - 3s 3ms/step - loss: 1.3978 - accuracy: 0.5085 - val_loss: 1.4444 - val_accuracy: 0.4875\n",
            "Epoch 11/13\n",
            "782/782 [==============================] - 3s 3ms/step - loss: 1.3758 - accuracy: 0.5137 - val_loss: 1.4502 - val_accuracy: 0.4887\n",
            "Epoch 12/13\n",
            "782/782 [==============================] - 3s 3ms/step - loss: 1.3578 - accuracy: 0.5195 - val_loss: 1.4581 - val_accuracy: 0.4867\n",
            "Epoch 13/13\n",
            "782/782 [==============================] - 3s 3ms/step - loss: 1.3381 - accuracy: 0.5289 - val_loss: 1.4158 - val_accuracy: 0.4927\n"
          ],
          "name": "stdout"
        }
      ]
    },
    {
      "cell_type": "code",
      "metadata": {
        "id": "GNfnaCvo2m_S",
        "colab_type": "code",
        "colab": {
          "base_uri": "https://localhost:8080/",
          "height": 50
        },
        "outputId": "62d96a87-97a0-4c86-faef-2e4f48c575c3"
      },
      "source": [
        "model.evaluate(xtr,ytr)"
      ],
      "execution_count": 10,
      "outputs": [
        {
          "output_type": "stream",
          "text": [
            "1563/1563 [==============================] - 4s 2ms/step - loss: 1.3113 - accuracy: 0.5376\n"
          ],
          "name": "stdout"
        },
        {
          "output_type": "execute_result",
          "data": {
            "text/plain": [
              "[1.311301827430725, 0.537559986114502]"
            ]
          },
          "metadata": {
            "tags": []
          },
          "execution_count": 10
        }
      ]
    },
    {
      "cell_type": "code",
      "metadata": {
        "id": "sR9VaoU43DwT",
        "colab_type": "code",
        "colab": {
          "base_uri": "https://localhost:8080/",
          "height": 34
        },
        "outputId": "ce9bc392-59b7-4138-ca84-4972b4ddd1dd"
      },
      "source": [
        "score = model.evaluate(xte,yte)"
      ],
      "execution_count": 11,
      "outputs": [
        {
          "output_type": "stream",
          "text": [
            "313/313 [==============================] - 1s 2ms/step - loss: 1.4158 - accuracy: 0.4927\n"
          ],
          "name": "stdout"
        }
      ]
    },
    {
      "cell_type": "code",
      "metadata": {
        "id": "SKCuBZxK4fZm",
        "colab_type": "code",
        "colab": {
          "base_uri": "https://localhost:8080/",
          "height": 50
        },
        "outputId": "2d7aa0f2-7633-4272-bc80-e2200c26f5fb"
      },
      "source": [
        "print('Test Loss:', score[0])\n",
        "print('Test accuracy:', score[1])"
      ],
      "execution_count": 12,
      "outputs": [
        {
          "output_type": "stream",
          "text": [
            "Test Loss: 1.4158090353012085\n",
            "Test accuracy: 0.4927000105381012\n"
          ],
          "name": "stdout"
        }
      ]
    },
    {
      "cell_type": "code",
      "metadata": {
        "id": "NzAbFF-p4val",
        "colab_type": "code",
        "colab": {}
      },
      "source": [
        "import numpy as np\n",
        "np.save('my_history.npy',history.history)"
      ],
      "execution_count": 13,
      "outputs": []
    },
    {
      "cell_type": "code",
      "metadata": {
        "id": "mxhRxdZK5Edn",
        "colab_type": "code",
        "colab": {}
      },
      "source": [
        "model.save('Cifar10_FFNN.h5')"
      ],
      "execution_count": 14,
      "outputs": []
    },
    {
      "cell_type": "code",
      "metadata": {
        "id": "dABEBy1v5P7k",
        "colab_type": "code",
        "colab": {}
      },
      "source": [
        ""
      ],
      "execution_count": null,
      "outputs": []
    }
  ]
}