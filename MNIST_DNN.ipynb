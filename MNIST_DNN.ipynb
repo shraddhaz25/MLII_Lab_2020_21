{
  "nbformat": 4,
  "nbformat_minor": 0,
  "metadata": {
    "colab": {
      "name": "MNIST DNN.ipynb",
      "provenance": []
    },
    "kernelspec": {
      "name": "python3",
      "display_name": "Python 3"
    },
    "accelerator": "GPU"
  },
  "cells": [
    {
      "cell_type": "code",
      "metadata": {
        "id": "swKPOIjx5kp9",
        "colab_type": "code",
        "colab": {}
      },
      "source": [
        "from __future__ import print_function\n",
        "import keras\n",
        "from keras.datasets import mnist\n",
        "import numpy as np\n",
        "from keras.preprocessing.image import ImageDataGenerator\n",
        "from keras.models import Sequential\n",
        "import tensorflow.compat.v2 as tf\n",
        "from sklearn.model_selection import train_test_split\n",
        "from tensorflow.keras.utils import to_categorical as tcg\n",
        "from tensorflow.keras.layers import Dense, Flatten"
      ],
      "execution_count": 1,
      "outputs": []
    },
    {
      "cell_type": "code",
      "metadata": {
        "id": "ghbKPmLD6DYj",
        "colab_type": "code",
        "colab": {}
      },
      "source": [
        "(xtr,ytr),(xte,yte) = mnist.load_data()"
      ],
      "execution_count": 3,
      "outputs": []
    },
    {
      "cell_type": "code",
      "metadata": {
        "id": "pC-uPwUJ6K0Q",
        "colab_type": "code",
        "colab": {
          "base_uri": "https://localhost:8080/",
          "height": 34
        },
        "outputId": "a5b97428-6739-4317-9017-0b34199983a3"
      },
      "source": [
        "xtr.shape"
      ],
      "execution_count": 4,
      "outputs": [
        {
          "output_type": "execute_result",
          "data": {
            "text/plain": [
              "(60000, 28, 28)"
            ]
          },
          "metadata": {
            "tags": []
          },
          "execution_count": 4
        }
      ]
    },
    {
      "cell_type": "code",
      "metadata": {
        "id": "aFiMpowv9lYi",
        "colab_type": "code",
        "colab": {}
      },
      "source": [
        "xte=xte.reshape(xte.shape[0],xte.shape[1],xte.shape[2],1).astype('float32')/255\n",
        "xtr=xtr.reshape(xtr.shape[0],xtr.shape[1],xtr.shape[2],1).astype('float32')/255"
      ],
      "execution_count": 5,
      "outputs": []
    },
    {
      "cell_type": "code",
      "metadata": {
        "id": "jA0RxrjC-RRM",
        "colab_type": "code",
        "colab": {}
      },
      "source": [
        "ytr=tcg(ytr)\n",
        "yte=tcg(yte)"
      ],
      "execution_count": 6,
      "outputs": []
    },
    {
      "cell_type": "code",
      "metadata": {
        "id": "h7E_gTln-aG4",
        "colab_type": "code",
        "colab": {}
      },
      "source": [
        "model = Sequential([\n",
        "                    Flatten(input_shape=(28,28,1)),\n",
        "                    Dense(784, activation='relu'),\n",
        "                    Dense(512, activation='relu'),\n",
        "                    Dense(392, activation='relu'),\n",
        "                    Dense(256, activation='relu'),\n",
        "                    Dense(128, activation='relu'),\n",
        "                    Dense(64, activation='relu'),\n",
        "                    Dense(32, activation='relu'),\n",
        "                    Dense(16, activation='relu'),\n",
        "                    Dense(10, activation='softmax'),\n",
        "])"
      ],
      "execution_count": 7,
      "outputs": []
    },
    {
      "cell_type": "code",
      "metadata": {
        "id": "b-SWMMn-_RwC",
        "colab_type": "code",
        "colab": {}
      },
      "source": [
        "model.compile(loss='categorical_crossentropy',optimizer='Adam',metrics=['accuracy'])"
      ],
      "execution_count": 8,
      "outputs": []
    },
    {
      "cell_type": "code",
      "metadata": {
        "id": "PsYPNTNI_kST",
        "colab_type": "code",
        "colab": {}
      },
      "source": [
        "x_train,x_valid = xtr[5000:],xtr[:5000]\n",
        "y_train,y_valid = ytr[5000:],ytr[:5000]"
      ],
      "execution_count": 9,
      "outputs": []
    },
    {
      "cell_type": "code",
      "metadata": {
        "id": "rnOXeSDm_x-Q",
        "colab_type": "code",
        "colab": {}
      },
      "source": [
        "from keras.callbacks import ModelCheckpoint"
      ],
      "execution_count": 10,
      "outputs": []
    },
    {
      "cell_type": "code",
      "metadata": {
        "id": "ICqNYRe9_4XW",
        "colab_type": "code",
        "colab": {}
      },
      "source": [
        "checkpoint = ModelCheckpoint(filepath= 'best_model.h5', save_best_only= True, verbose= 1)"
      ],
      "execution_count": 11,
      "outputs": []
    },
    {
      "cell_type": "code",
      "metadata": {
        "id": "idKTJwtvAI9S",
        "colab_type": "code",
        "colab": {
          "base_uri": "https://localhost:8080/",
          "height": 554
        },
        "outputId": "c19ae9d1-7000-476e-ce8a-4832cc70245e"
      },
      "source": [
        "history = model.fit(x_train,y_train,batch_size=256,epochs=8,validation_data=(x_valid,y_valid),callbacks=[checkpoint],verbose=2, shuffle=True)"
      ],
      "execution_count": 12,
      "outputs": [
        {
          "output_type": "stream",
          "text": [
            "Epoch 1/8\n",
            "\n",
            "Epoch 00001: val_loss improved from inf to 0.13822, saving model to best_model.h5\n",
            "215/215 - 2s - loss: 0.3775 - accuracy: 0.8852 - val_loss: 0.1382 - val_accuracy: 0.9614\n",
            "Epoch 2/8\n",
            "\n",
            "Epoch 00002: val_loss improved from 0.13822 to 0.09607, saving model to best_model.h5\n",
            "215/215 - 2s - loss: 0.1092 - accuracy: 0.9682 - val_loss: 0.0961 - val_accuracy: 0.9702\n",
            "Epoch 3/8\n",
            "\n",
            "Epoch 00003: val_loss did not improve from 0.09607\n",
            "215/215 - 2s - loss: 0.0751 - accuracy: 0.9778 - val_loss: 0.1057 - val_accuracy: 0.9704\n",
            "Epoch 4/8\n",
            "\n",
            "Epoch 00004: val_loss improved from 0.09607 to 0.09134, saving model to best_model.h5\n",
            "215/215 - 2s - loss: 0.0510 - accuracy: 0.9845 - val_loss: 0.0913 - val_accuracy: 0.9756\n",
            "Epoch 5/8\n",
            "\n",
            "Epoch 00005: val_loss improved from 0.09134 to 0.08242, saving model to best_model.h5\n",
            "215/215 - 2s - loss: 0.0398 - accuracy: 0.9879 - val_loss: 0.0824 - val_accuracy: 0.9780\n",
            "Epoch 6/8\n",
            "\n",
            "Epoch 00006: val_loss did not improve from 0.08242\n",
            "215/215 - 2s - loss: 0.0328 - accuracy: 0.9897 - val_loss: 0.0860 - val_accuracy: 0.9782\n",
            "Epoch 7/8\n",
            "\n",
            "Epoch 00007: val_loss improved from 0.08242 to 0.07788, saving model to best_model.h5\n",
            "215/215 - 2s - loss: 0.0326 - accuracy: 0.9903 - val_loss: 0.0779 - val_accuracy: 0.9808\n",
            "Epoch 8/8\n",
            "\n",
            "Epoch 00008: val_loss improved from 0.07788 to 0.07342, saving model to best_model.h5\n",
            "215/215 - 2s - loss: 0.0265 - accuracy: 0.9919 - val_loss: 0.0734 - val_accuracy: 0.9828\n"
          ],
          "name": "stdout"
        }
      ]
    },
    {
      "cell_type": "code",
      "metadata": {
        "id": "JDOLkCFvApyv",
        "colab_type": "code",
        "colab": {}
      },
      "source": [
        "np.save('my_history.npy',history.history)"
      ],
      "execution_count": 13,
      "outputs": []
    },
    {
      "cell_type": "code",
      "metadata": {
        "id": "PLHFMmHxBq5A",
        "colab_type": "code",
        "colab": {}
      },
      "source": [
        "history=np.load('my_history.npy',allow_pickle='True').item()"
      ],
      "execution_count": 14,
      "outputs": []
    },
    {
      "cell_type": "code",
      "metadata": {
        "id": "pOL_Z7b_B9UY",
        "colab_type": "code",
        "colab": {
          "base_uri": "https://localhost:8080/",
          "height": 50
        },
        "outputId": "e4753280-bca1-4353-c0d5-037e7c4b18e9"
      },
      "source": [
        "model.evaluate(xtr,ytr)"
      ],
      "execution_count": 15,
      "outputs": [
        {
          "output_type": "stream",
          "text": [
            "1875/1875 [==============================] - 6s 3ms/step - loss: 0.0235 - accuracy: 0.9937\n"
          ],
          "name": "stdout"
        },
        {
          "output_type": "execute_result",
          "data": {
            "text/plain": [
              "[0.023543547838926315, 0.9937333464622498]"
            ]
          },
          "metadata": {
            "tags": []
          },
          "execution_count": 15
        }
      ]
    },
    {
      "cell_type": "code",
      "metadata": {
        "id": "Fo3lu0VjCCo1",
        "colab_type": "code",
        "colab": {
          "base_uri": "https://localhost:8080/",
          "height": 34
        },
        "outputId": "dc4a409d-cf19-4edc-8172-e982b8feabc4"
      },
      "source": [
        "score = model.evaluate(xte,yte)"
      ],
      "execution_count": 16,
      "outputs": [
        {
          "output_type": "stream",
          "text": [
            "313/313 [==============================] - 1s 3ms/step - loss: 0.0834 - accuracy: 0.9794\n"
          ],
          "name": "stdout"
        }
      ]
    },
    {
      "cell_type": "code",
      "metadata": {
        "id": "aBiwlbmZCH9a",
        "colab_type": "code",
        "colab": {
          "base_uri": "https://localhost:8080/",
          "height": 50
        },
        "outputId": "4cc0cfaa-3706-4757-fd4c-1930c1c6e01b"
      },
      "source": [
        "print('Test Loss:', score[0])\n",
        "print('Test Accuracy:', score[1])"
      ],
      "execution_count": 17,
      "outputs": [
        {
          "output_type": "stream",
          "text": [
            "Test Loss: 0.08343825489282608\n",
            "Test Accuracy: 0.9793999791145325\n"
          ],
          "name": "stdout"
        }
      ]
    },
    {
      "cell_type": "code",
      "metadata": {
        "id": "bOPDxZASCQ2g",
        "colab_type": "code",
        "colab": {}
      },
      "source": [
        ""
      ],
      "execution_count": null,
      "outputs": []
    }
  ]
}